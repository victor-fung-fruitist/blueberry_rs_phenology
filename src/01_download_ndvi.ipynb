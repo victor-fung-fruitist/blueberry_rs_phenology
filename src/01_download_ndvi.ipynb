{
 "cells": [
  {
   "cell_type": "code",
   "execution_count": null,
   "metadata": {},
   "outputs": [],
   "source": [
    "import geopandas as gpd\n",
    "import stackstac\n",
    "import numpy as np\n",
    "import json\n",
    "import rioxarray\n",
    "import xarray as xr\n",
    "\n",
    "import pandas as pd\n",
    "\n",
    "# import ray\n",
    "from tqdm import tqdm\n",
    "import shapely\n",
    "import datetime\n",
    "import dask\n",
    "\n",
    "from dask.distributed import Client\n",
    "import dask.diagnostics\n",
    "\n",
    "import functools\n",
    "\n",
    "\n",
    "import matplotlib.pyplot as plt\n",
    "\n",
    "import pathlib\n",
    "\n",
    "import os\n",
    "import folium\n",
    "\n",
    "\n",
    "from utils.functions import (\n",
    "    ingest_img,\n",
    "    compute_indices,\n",
    ")\n",
    "\n",
    "from utils.config import RAW_DIR, INTERMEDIATE_DIR\n",
    "\n",
    "pd.set_option(\"display.max_columns\", None)"
   ]
  },
  {
   "cell_type": "code",
   "execution_count": null,
   "metadata": {},
   "outputs": [],
   "source": [
    "# # set up the dask cluster\n",
    "client = Client()\n",
    "client"
   ]
  },
  {
   "cell_type": "code",
   "execution_count": null,
   "metadata": {},
   "outputs": [],
   "source": [
    "from_year: int = 2022\n",
    "to_year: int = 2023"
   ]
  },
  {
   "cell_type": "markdown",
   "metadata": {},
   "source": [
    "## define AOI"
   ]
  },
  {
   "cell_type": "code",
   "execution_count": null,
   "metadata": {},
   "outputs": [],
   "source": [
    "# load POC AOI\n",
    "aoi: gpd.GeoDataFrame = (\n",
    "    gpd.read_file(RAW_DIR / \"peru_olmos_C5&C6.geojson\")\n",
    "    .pipe(lambda x: x.to_crs(crs=x.estimate_utm_crs()))\n",
    "    # .assign(geometry=lambda x: x.buffer(274.32).envelope)  # 300 yards\n",
    "    .to_crs(4326)\n",
    "    .assign(geometry=lambda x: x.geometry.force_2d())\n",
    ")"
   ]
  },
  {
   "cell_type": "code",
   "execution_count": null,
   "metadata": {},
   "outputs": [],
   "source": [
    "# optional sense check\n",
    "m = aoi.explore()\n",
    "aoi.explore(m=m, color=\"red\")\n",
    "\n",
    "\n",
    "# add Google earth\n",
    "m = m.add_child(\n",
    "    folium.TileLayer(\n",
    "        tiles=\"https://mt1.google.com/vt/lyrs=y&x={x}&y={y}&z={z}\",\n",
    "        name=\"Google Satellite\",\n",
    "        attr=\"Google\",\n",
    "        max_zoom=35,\n",
    "        show=True,\n",
    "    )\n",
    ")\n",
    "\n",
    "folium.LayerControl().add_to(m)\n",
    "\n",
    "m"
   ]
  },
  {
   "cell_type": "markdown",
   "metadata": {},
   "source": [
    "## Compute NDVI "
   ]
  },
  {
   "cell_type": "code",
   "execution_count": null,
   "metadata": {},
   "outputs": [],
   "source": [
    "aoi: gpd.GeoDataFrame = (\n",
    "    aoi.drop(\n",
    "        columns=[\"Description\"],\n",
    "        errors=\"ignore\",\n",
    "    )\n",
    "    .dissolve()\n",
    "    .assign(geometry=lambda x: x.envelope)\n",
    ")"
   ]
  },
  {
   "cell_type": "code",
   "execution_count": null,
   "metadata": {},
   "outputs": [],
   "source": [
    "# ingest the sentinel-2 image lazily\n",
    "dds: xr.Dataset = ingest_img(\n",
    "    aoi=aoi,\n",
    "    from_year=from_year,\n",
    "    to_year=to_year,\n",
    "    collections_of_interest=[\"sentinel-2-l2a\"],\n",
    "    cloud_fraction_upper_bound_perc=100,\n",
    ")"
   ]
  },
  {
   "cell_type": "code",
   "execution_count": null,
   "metadata": {},
   "outputs": [],
   "source": [
    "# add a step to compute indices\n",
    "dds_w_indices: xr.Dataset = dds.pipe(compute_indices)"
   ]
  },
  {
   "cell_type": "code",
   "execution_count": null,
   "metadata": {},
   "outputs": [],
   "source": [
    "# round time by day to mosaic images from the same date\n",
    "dds_w_indices[\"time\"] = dds_w_indices[\"time\"].dt.round(\"1D\")"
   ]
  },
  {
   "cell_type": "code",
   "execution_count": null,
   "metadata": {},
   "outputs": [],
   "source": [
    "# calculate daily mean NDVI\n",
    "ndvi_daily: xr.Dataset = dds_w_indices[\"ndvi\"].groupby(\"time\").mean()"
   ]
  },
  {
   "cell_type": "code",
   "execution_count": null,
   "metadata": {},
   "outputs": [],
   "source": [
    "# compute daily NDVI (takes long)\n",
    "ndvi_daily: xr.Dataset = ndvi_daily.compute()"
   ]
  },
  {
   "cell_type": "markdown",
   "metadata": {},
   "source": [
    "# Plot the daily NDVI as png"
   ]
  },
  {
   "cell_type": "code",
   "execution_count": null,
   "metadata": {},
   "outputs": [],
   "source": [
    "dates: list[str] = ndvi_daily[\"time\"].values"
   ]
  },
  {
   "cell_type": "code",
   "execution_count": null,
   "metadata": {},
   "outputs": [],
   "source": [
    "for date in ndvi_daily[\"time\"].values:\n",
    "    fig, ax = plt.subplots(figsize=(10, 10))\n",
    "\n",
    "    ndvi_daily.sel(time=date).plot(\n",
    "        ax=ax,\n",
    "        cmap=\"viridis\",\n",
    "        add_colorbar=False,\n",
    "        vmin=0,\n",
    "        vmax=1,\n",
    "    )\n",
    "\n",
    "    # add legend\n",
    "    cbar = plt.colorbar(ax.collections[0], ax=ax, pad=0.01)\n",
    "    cbar.set_label(\"NDVI\", fontsize=15)\n",
    "    cbar.ax.tick_params(labelsize=15)\n",
    "    cbar.ax.set_yticklabels(cbar.ax.get_yticklabels(), fontsize=15)\n",
    "    ax.set_xlabel(\"Longitude\", fontsize=15)\n",
    "    ax.set_ylabel(\"Latitude\", fontsize=15)\n",
    "    ax.tick_params(axis=\"both\", which=\"major\", labelsize=15)\n",
    "    ax.set_title(f\"NDVI {pd.to_datetime(date).strftime('%Y-%m-%d')}\", fontsize=20)\n",
    "\n",
    "    # axis equal\n",
    "    ax.set_aspect(\"equal\", adjustable=\"box\")\n",
    "\n",
    "    # plt.show()\n",
    "\n",
    "    # save the figure\n",
    "    plt.savefig(\n",
    "        INTERMEDIATE_DIR / \"ndvi_daily_{pd.to_datetime(date).strftime('%Y-%m-%d')}.png\"\n",
    "    )"
   ]
  },
  {
   "cell_type": "code",
   "execution_count": null,
   "metadata": {},
   "outputs": [],
   "source": []
  }
 ],
 "metadata": {
  "kernelspec": {
   "display_name": ".venv",
   "language": "python",
   "name": "python3"
  },
  "language_info": {
   "codemirror_mode": {
    "name": "ipython",
    "version": 3
   },
   "file_extension": ".py",
   "mimetype": "text/x-python",
   "name": "python",
   "nbconvert_exporter": "python",
   "pygments_lexer": "ipython3",
   "version": "3.12.10"
  }
 },
 "nbformat": 4,
 "nbformat_minor": 2
}
