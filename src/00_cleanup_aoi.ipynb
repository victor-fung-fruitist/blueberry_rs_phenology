{
 "cells": [
  {
   "cell_type": "code",
   "execution_count": null,
   "id": "5f758911",
   "metadata": {},
   "outputs": [],
   "source": [
    "import geopandas\n",
    "\n",
    "from utils.config import RAW_DIR\n",
    "\n",
    "import pandas as pd"
   ]
  },
  {
   "cell_type": "code",
   "execution_count": null,
   "id": "194e223e",
   "metadata": {},
   "outputs": [],
   "source": [
    "aoi = geopandas.read_file(RAW_DIR / \"doc.kml\", driver=\"LIBKML\")"
   ]
  },
  {
   "cell_type": "code",
   "execution_count": null,
   "id": "1d54a87c",
   "metadata": {},
   "outputs": [],
   "source": [
    "aoi.explore()"
   ]
  },
  {
   "cell_type": "code",
   "execution_count": null,
   "id": "a4aa37b7",
   "metadata": {},
   "outputs": [],
   "source": [
    "# extract and expand the description into individual columns\n",
    "aoi[\"Description\"][0]"
   ]
  },
  {
   "cell_type": "markdown",
   "id": "c806a4d7",
   "metadata": {},
   "source": [
    "## Extract field info"
   ]
  },
  {
   "cell_type": "code",
   "execution_count": null,
   "id": "863ac1ef",
   "metadata": {},
   "outputs": [],
   "source": [
    "aoi_w_info = pd.concat(\n",
    "    [\n",
    "        aoi,\n",
    "        aoi[\"Description\"]\n",
    "        .str.split(\"<td>|</td>\", expand=True)\n",
    "        .filter(\n",
    "            items=[\n",
    "                6,\n",
    "                10,\n",
    "                14,\n",
    "                18,\n",
    "                22,\n",
    "                26,\n",
    "            ]\n",
    "        )\n",
    "        .rename(\n",
    "            columns={\n",
    "                6: \"ENTERPRISE\",\n",
    "                10: \"AREA\",\n",
    "                14: \"FARM\",\n",
    "                18: \"CROP\",\n",
    "                22: \"VARIETY\",\n",
    "                26: \"CODE\",\n",
    "            }\n",
    "        ),\n",
    "    ],\n",
    "    axis=1,\n",
    ").drop(columns=[\"Name\", \"Description\"])"
   ]
  },
  {
   "cell_type": "code",
   "execution_count": null,
   "id": "4cea802a",
   "metadata": {},
   "outputs": [],
   "source": [
    "# optional sense check\n",
    "aoi_w_info"
   ]
  },
  {
   "cell_type": "code",
   "execution_count": null,
   "id": "210502a7",
   "metadata": {},
   "outputs": [],
   "source": [
    "aoi_w_info.to_file(\n",
    "    RAW_DIR / \"peru_olmos_C5&C6.geojson\",\n",
    "    driver=\"GeoJSON\",\n",
    ")"
   ]
  },
  {
   "cell_type": "code",
   "execution_count": null,
   "id": "8558a25c",
   "metadata": {},
   "outputs": [],
   "source": []
  }
 ],
 "metadata": {
  "kernelspec": {
   "display_name": ".venv",
   "language": "python",
   "name": "python3"
  },
  "language_info": {
   "codemirror_mode": {
    "name": "ipython",
    "version": 3
   },
   "file_extension": ".py",
   "mimetype": "text/x-python",
   "name": "python",
   "nbconvert_exporter": "python",
   "pygments_lexer": "ipython3",
   "version": "3.12.10"
  }
 },
 "nbformat": 4,
 "nbformat_minor": 5
}
